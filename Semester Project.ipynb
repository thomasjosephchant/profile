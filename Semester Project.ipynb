{
 "cells": [
  {
   "cell_type": "markdown",
   "id": "3f43a816",
   "metadata": {},
   "source": [
    "Thomas Chant\n",
    "\n",
    "DSCI403\n",
    "\n",
    "Semester Project Update #1"
   ]
  },
  {
   "cell_type": "markdown",
   "id": "ebab81c1",
   "metadata": {},
   "source": [
    "# Data Acquisition"
   ]
  },
  {
   "cell_type": "markdown",
   "id": "b308f082",
   "metadata": {},
   "source": [
    "&nbsp;&nbsp;&nbsp;&nbsp;&nbsp;&nbsp; The dataset I will be working with is the “BigMart Sale Data” set suggested in the course description, acquired from Kaggle.com.  The data includes the features “Item_Identifier, Item_Weight, Item_Fat_Content, Item_Visibility, Item_Type, Item_MRP, Outlet_Identifier, Outlet_Establishment_Year, Outlet_Size, Outlet_Location_Type, Outlet_Type, Item_Outlet_Sales.”  “Item Outlet Sales” is the target variable, and each of the others could be considered for the predictive model.  Certain variables such as “Item_Identifier” may be disregarded during the final model building, since it would be impractical to create thousands of dummy variables to represent thousands of different ID numbers.  \n",
    "&nbsp;&nbsp;&nbsp;&nbsp;&nbsp;&nbsp; The data is from 10 different stores and has 1559 different products.  The data exists in the form of a .CSV file, and was uploaded to Kaggle, and obtained from public domain.  Since the file is public domain, there should not be any issues or limitations in sharing of the data or my work.  As far as use, while the set is free to use and explore for anyone, the data set was uploaded 5 years ago, so its usefulness for modern predictions is likely outdated, and the model should be viewed more as a practice exercise, an example predictive model and evidence of ability, rather than a model that should be applied in its current state.\n",
    " \n"
   ]
  },
  {
   "cell_type": "markdown",
   "id": "f0afec56",
   "metadata": {},
   "source": [
    "# Preprocessing"
   ]
  },
  {
   "cell_type": "code",
   "execution_count": 1,
   "id": "8dbea199",
   "metadata": {},
   "outputs": [],
   "source": [
    "#Import some things\n",
    "\n",
    "from mpl_toolkits.mplot3d import Axes3D\n",
    "from sklearn.preprocessing import StandardScaler\n",
    "import matplotlib.pyplot as plt # plotting\n",
    "import numpy as np\n",
    "import pandas as pd # we love pandas\n",
    "import seaborn as sns #graphs\n",
    "import nbconvert #for making a pdf\n",
    "from sklearn.model_selection import train_test_split\n",
    "from sklearn.linear_model import LinearRegression, LassoCV\n",
    "from sklearn.ensemble import RandomForestRegressor\n",
    "from sklearn.preprocessing import LabelEncoder\n",
    "from sklearn.metrics import mean_squared_error, r2_score\n",
    "from sklearn.feature_selection import SelectKBest, mutual_info_regression, RFE\n",
    "from sklearn.neighbors import KNeighborsRegressor\n",
    "from sklearn.decomposition import PCA\n",
    "import matplotlib.patches as mpatches\n",
    "from sklearn import tree\n",
    "from matplotlib.pyplot import figure\n"
   ]
  },
  {
   "cell_type": "code",
   "execution_count": 2,
   "id": "11aa1db0",
   "metadata": {},
   "outputs": [
    {
     "data": {
      "text/html": [
       "<div>\n",
       "<style scoped>\n",
       "    .dataframe tbody tr th:only-of-type {\n",
       "        vertical-align: middle;\n",
       "    }\n",
       "\n",
       "    .dataframe tbody tr th {\n",
       "        vertical-align: top;\n",
       "    }\n",
       "\n",
       "    .dataframe thead th {\n",
       "        text-align: right;\n",
       "    }\n",
       "</style>\n",
       "<table border=\"1\" class=\"dataframe\">\n",
       "  <thead>\n",
       "    <tr style=\"text-align: right;\">\n",
       "      <th></th>\n",
       "      <th>Item_Identifier</th>\n",
       "      <th>Item_Weight</th>\n",
       "      <th>Item_Fat_Content</th>\n",
       "      <th>Item_Visibility</th>\n",
       "      <th>Item_Type</th>\n",
       "      <th>Item_MRP</th>\n",
       "      <th>Outlet_Identifier</th>\n",
       "      <th>Outlet_Establishment_Year</th>\n",
       "      <th>Outlet_Size</th>\n",
       "      <th>Outlet_Location_Type</th>\n",
       "      <th>Outlet_Type</th>\n",
       "      <th>Item_Outlet_Sales</th>\n",
       "    </tr>\n",
       "  </thead>\n",
       "  <tbody>\n",
       "    <tr>\n",
       "      <th>0</th>\n",
       "      <td>FDA15</td>\n",
       "      <td>9.30</td>\n",
       "      <td>Low Fat</td>\n",
       "      <td>0.016047</td>\n",
       "      <td>Dairy</td>\n",
       "      <td>249.8092</td>\n",
       "      <td>OUT049</td>\n",
       "      <td>1999</td>\n",
       "      <td>Medium</td>\n",
       "      <td>Tier 1</td>\n",
       "      <td>Supermarket Type1</td>\n",
       "      <td>3735.1380</td>\n",
       "    </tr>\n",
       "    <tr>\n",
       "      <th>1</th>\n",
       "      <td>DRC01</td>\n",
       "      <td>5.92</td>\n",
       "      <td>Regular</td>\n",
       "      <td>0.019278</td>\n",
       "      <td>Soft Drinks</td>\n",
       "      <td>48.2692</td>\n",
       "      <td>OUT018</td>\n",
       "      <td>2009</td>\n",
       "      <td>Medium</td>\n",
       "      <td>Tier 3</td>\n",
       "      <td>Supermarket Type2</td>\n",
       "      <td>443.4228</td>\n",
       "    </tr>\n",
       "    <tr>\n",
       "      <th>2</th>\n",
       "      <td>FDN15</td>\n",
       "      <td>17.50</td>\n",
       "      <td>Low Fat</td>\n",
       "      <td>0.016760</td>\n",
       "      <td>Meat</td>\n",
       "      <td>141.6180</td>\n",
       "      <td>OUT049</td>\n",
       "      <td>1999</td>\n",
       "      <td>Medium</td>\n",
       "      <td>Tier 1</td>\n",
       "      <td>Supermarket Type1</td>\n",
       "      <td>2097.2700</td>\n",
       "    </tr>\n",
       "    <tr>\n",
       "      <th>3</th>\n",
       "      <td>FDX07</td>\n",
       "      <td>19.20</td>\n",
       "      <td>Regular</td>\n",
       "      <td>0.000000</td>\n",
       "      <td>Fruits and Vegetables</td>\n",
       "      <td>182.0950</td>\n",
       "      <td>OUT010</td>\n",
       "      <td>1998</td>\n",
       "      <td>NaN</td>\n",
       "      <td>Tier 3</td>\n",
       "      <td>Grocery Store</td>\n",
       "      <td>732.3800</td>\n",
       "    </tr>\n",
       "    <tr>\n",
       "      <th>4</th>\n",
       "      <td>NCD19</td>\n",
       "      <td>8.93</td>\n",
       "      <td>Low Fat</td>\n",
       "      <td>0.000000</td>\n",
       "      <td>Household</td>\n",
       "      <td>53.8614</td>\n",
       "      <td>OUT013</td>\n",
       "      <td>1987</td>\n",
       "      <td>High</td>\n",
       "      <td>Tier 3</td>\n",
       "      <td>Supermarket Type1</td>\n",
       "      <td>994.7052</td>\n",
       "    </tr>\n",
       "  </tbody>\n",
       "</table>\n",
       "</div>"
      ],
      "text/plain": [
       "  Item_Identifier  Item_Weight Item_Fat_Content  Item_Visibility  \\\n",
       "0           FDA15         9.30          Low Fat         0.016047   \n",
       "1           DRC01         5.92          Regular         0.019278   \n",
       "2           FDN15        17.50          Low Fat         0.016760   \n",
       "3           FDX07        19.20          Regular         0.000000   \n",
       "4           NCD19         8.93          Low Fat         0.000000   \n",
       "\n",
       "               Item_Type  Item_MRP Outlet_Identifier  \\\n",
       "0                  Dairy  249.8092            OUT049   \n",
       "1            Soft Drinks   48.2692            OUT018   \n",
       "2                   Meat  141.6180            OUT049   \n",
       "3  Fruits and Vegetables  182.0950            OUT010   \n",
       "4              Household   53.8614            OUT013   \n",
       "\n",
       "   Outlet_Establishment_Year Outlet_Size Outlet_Location_Type  \\\n",
       "0                       1999      Medium               Tier 1   \n",
       "1                       2009      Medium               Tier 3   \n",
       "2                       1999      Medium               Tier 1   \n",
       "3                       1998         NaN               Tier 3   \n",
       "4                       1987        High               Tier 3   \n",
       "\n",
       "         Outlet_Type  Item_Outlet_Sales  \n",
       "0  Supermarket Type1          3735.1380  \n",
       "1  Supermarket Type2           443.4228  \n",
       "2  Supermarket Type1          2097.2700  \n",
       "3      Grocery Store           732.3800  \n",
       "4  Supermarket Type1           994.7052  "
      ]
     },
     "execution_count": 2,
     "metadata": {},
     "output_type": "execute_result"
    }
   ],
   "source": [
    "nRowsRead = 'None'\n",
    "train = pd.read_csv(r'C:\\Users\\thoma\\Desktop\\Colorado School of Mines\\Fall 2022\\DSCI403 - Introduction to Data Science\\Final Project\\Train.csv')\n",
    "train.dataframeName = 'Train.csv'\n",
    "test = pd.read_csv(r'C:\\Users\\thoma\\Desktop\\Colorado School of Mines\\Fall 2022\\DSCI403 - Introduction to Data Science\\Final Project\\Test.csv')\n",
    "test.dataframeName = 'Test.csv'\n",
    "nRow, nCol = train.shape\n",
    "train.head(5) #take a quick look at our data imported to make sure everything is copacetic"
   ]
  },
  {
   "cell_type": "code",
   "execution_count": 3,
   "id": "4b0fb69a",
   "metadata": {},
   "outputs": [
    {
     "data": {
      "text/html": [
       "<div>\n",
       "<style scoped>\n",
       "    .dataframe tbody tr th:only-of-type {\n",
       "        vertical-align: middle;\n",
       "    }\n",
       "\n",
       "    .dataframe tbody tr th {\n",
       "        vertical-align: top;\n",
       "    }\n",
       "\n",
       "    .dataframe thead th {\n",
       "        text-align: right;\n",
       "    }\n",
       "</style>\n",
       "<table border=\"1\" class=\"dataframe\">\n",
       "  <thead>\n",
       "    <tr style=\"text-align: right;\">\n",
       "      <th></th>\n",
       "      <th>Item_Identifier</th>\n",
       "      <th>Item_Weight</th>\n",
       "      <th>Item_Fat_Content</th>\n",
       "      <th>Item_Visibility</th>\n",
       "      <th>Item_Type</th>\n",
       "      <th>Item_MRP</th>\n",
       "      <th>Outlet_Identifier</th>\n",
       "      <th>Outlet_Establishment_Year</th>\n",
       "      <th>Outlet_Size</th>\n",
       "      <th>Outlet_Location_Type</th>\n",
       "      <th>Outlet_Type</th>\n",
       "    </tr>\n",
       "  </thead>\n",
       "  <tbody>\n",
       "    <tr>\n",
       "      <th>0</th>\n",
       "      <td>FDW58</td>\n",
       "      <td>20.750</td>\n",
       "      <td>Low Fat</td>\n",
       "      <td>0.007565</td>\n",
       "      <td>Snack Foods</td>\n",
       "      <td>107.8622</td>\n",
       "      <td>OUT049</td>\n",
       "      <td>1999</td>\n",
       "      <td>Medium</td>\n",
       "      <td>Tier 1</td>\n",
       "      <td>Supermarket Type1</td>\n",
       "    </tr>\n",
       "    <tr>\n",
       "      <th>1</th>\n",
       "      <td>FDW14</td>\n",
       "      <td>8.300</td>\n",
       "      <td>reg</td>\n",
       "      <td>0.038428</td>\n",
       "      <td>Dairy</td>\n",
       "      <td>87.3198</td>\n",
       "      <td>OUT017</td>\n",
       "      <td>2007</td>\n",
       "      <td>NaN</td>\n",
       "      <td>Tier 2</td>\n",
       "      <td>Supermarket Type1</td>\n",
       "    </tr>\n",
       "    <tr>\n",
       "      <th>2</th>\n",
       "      <td>NCN55</td>\n",
       "      <td>14.600</td>\n",
       "      <td>Low Fat</td>\n",
       "      <td>0.099575</td>\n",
       "      <td>Others</td>\n",
       "      <td>241.7538</td>\n",
       "      <td>OUT010</td>\n",
       "      <td>1998</td>\n",
       "      <td>NaN</td>\n",
       "      <td>Tier 3</td>\n",
       "      <td>Grocery Store</td>\n",
       "    </tr>\n",
       "    <tr>\n",
       "      <th>3</th>\n",
       "      <td>FDQ58</td>\n",
       "      <td>7.315</td>\n",
       "      <td>Low Fat</td>\n",
       "      <td>0.015388</td>\n",
       "      <td>Snack Foods</td>\n",
       "      <td>155.0340</td>\n",
       "      <td>OUT017</td>\n",
       "      <td>2007</td>\n",
       "      <td>NaN</td>\n",
       "      <td>Tier 2</td>\n",
       "      <td>Supermarket Type1</td>\n",
       "    </tr>\n",
       "    <tr>\n",
       "      <th>4</th>\n",
       "      <td>FDY38</td>\n",
       "      <td>NaN</td>\n",
       "      <td>Regular</td>\n",
       "      <td>0.118599</td>\n",
       "      <td>Dairy</td>\n",
       "      <td>234.2300</td>\n",
       "      <td>OUT027</td>\n",
       "      <td>1985</td>\n",
       "      <td>Medium</td>\n",
       "      <td>Tier 3</td>\n",
       "      <td>Supermarket Type3</td>\n",
       "    </tr>\n",
       "    <tr>\n",
       "      <th>...</th>\n",
       "      <td>...</td>\n",
       "      <td>...</td>\n",
       "      <td>...</td>\n",
       "      <td>...</td>\n",
       "      <td>...</td>\n",
       "      <td>...</td>\n",
       "      <td>...</td>\n",
       "      <td>...</td>\n",
       "      <td>...</td>\n",
       "      <td>...</td>\n",
       "      <td>...</td>\n",
       "    </tr>\n",
       "    <tr>\n",
       "      <th>5676</th>\n",
       "      <td>FDB58</td>\n",
       "      <td>10.500</td>\n",
       "      <td>Regular</td>\n",
       "      <td>0.013496</td>\n",
       "      <td>Snack Foods</td>\n",
       "      <td>141.3154</td>\n",
       "      <td>OUT046</td>\n",
       "      <td>1997</td>\n",
       "      <td>Small</td>\n",
       "      <td>Tier 1</td>\n",
       "      <td>Supermarket Type1</td>\n",
       "    </tr>\n",
       "    <tr>\n",
       "      <th>5677</th>\n",
       "      <td>FDD47</td>\n",
       "      <td>7.600</td>\n",
       "      <td>Regular</td>\n",
       "      <td>0.142991</td>\n",
       "      <td>Starchy Foods</td>\n",
       "      <td>169.1448</td>\n",
       "      <td>OUT018</td>\n",
       "      <td>2009</td>\n",
       "      <td>Medium</td>\n",
       "      <td>Tier 3</td>\n",
       "      <td>Supermarket Type2</td>\n",
       "    </tr>\n",
       "    <tr>\n",
       "      <th>5678</th>\n",
       "      <td>NCO17</td>\n",
       "      <td>10.000</td>\n",
       "      <td>Low Fat</td>\n",
       "      <td>0.073529</td>\n",
       "      <td>Health and Hygiene</td>\n",
       "      <td>118.7440</td>\n",
       "      <td>OUT045</td>\n",
       "      <td>2002</td>\n",
       "      <td>NaN</td>\n",
       "      <td>Tier 2</td>\n",
       "      <td>Supermarket Type1</td>\n",
       "    </tr>\n",
       "    <tr>\n",
       "      <th>5679</th>\n",
       "      <td>FDJ26</td>\n",
       "      <td>15.300</td>\n",
       "      <td>Regular</td>\n",
       "      <td>0.000000</td>\n",
       "      <td>Canned</td>\n",
       "      <td>214.6218</td>\n",
       "      <td>OUT017</td>\n",
       "      <td>2007</td>\n",
       "      <td>NaN</td>\n",
       "      <td>Tier 2</td>\n",
       "      <td>Supermarket Type1</td>\n",
       "    </tr>\n",
       "    <tr>\n",
       "      <th>5680</th>\n",
       "      <td>FDU37</td>\n",
       "      <td>9.500</td>\n",
       "      <td>Regular</td>\n",
       "      <td>0.104720</td>\n",
       "      <td>Canned</td>\n",
       "      <td>79.7960</td>\n",
       "      <td>OUT045</td>\n",
       "      <td>2002</td>\n",
       "      <td>NaN</td>\n",
       "      <td>Tier 2</td>\n",
       "      <td>Supermarket Type1</td>\n",
       "    </tr>\n",
       "  </tbody>\n",
       "</table>\n",
       "<p>5681 rows × 11 columns</p>\n",
       "</div>"
      ],
      "text/plain": [
       "     Item_Identifier  Item_Weight Item_Fat_Content  Item_Visibility  \\\n",
       "0              FDW58       20.750          Low Fat         0.007565   \n",
       "1              FDW14        8.300              reg         0.038428   \n",
       "2              NCN55       14.600          Low Fat         0.099575   \n",
       "3              FDQ58        7.315          Low Fat         0.015388   \n",
       "4              FDY38          NaN          Regular         0.118599   \n",
       "...              ...          ...              ...              ...   \n",
       "5676           FDB58       10.500          Regular         0.013496   \n",
       "5677           FDD47        7.600          Regular         0.142991   \n",
       "5678           NCO17       10.000          Low Fat         0.073529   \n",
       "5679           FDJ26       15.300          Regular         0.000000   \n",
       "5680           FDU37        9.500          Regular         0.104720   \n",
       "\n",
       "               Item_Type  Item_MRP Outlet_Identifier  \\\n",
       "0            Snack Foods  107.8622            OUT049   \n",
       "1                  Dairy   87.3198            OUT017   \n",
       "2                 Others  241.7538            OUT010   \n",
       "3            Snack Foods  155.0340            OUT017   \n",
       "4                  Dairy  234.2300            OUT027   \n",
       "...                  ...       ...               ...   \n",
       "5676         Snack Foods  141.3154            OUT046   \n",
       "5677       Starchy Foods  169.1448            OUT018   \n",
       "5678  Health and Hygiene  118.7440            OUT045   \n",
       "5679              Canned  214.6218            OUT017   \n",
       "5680              Canned   79.7960            OUT045   \n",
       "\n",
       "      Outlet_Establishment_Year Outlet_Size Outlet_Location_Type  \\\n",
       "0                          1999      Medium               Tier 1   \n",
       "1                          2007         NaN               Tier 2   \n",
       "2                          1998         NaN               Tier 3   \n",
       "3                          2007         NaN               Tier 2   \n",
       "4                          1985      Medium               Tier 3   \n",
       "...                         ...         ...                  ...   \n",
       "5676                       1997       Small               Tier 1   \n",
       "5677                       2009      Medium               Tier 3   \n",
       "5678                       2002         NaN               Tier 2   \n",
       "5679                       2007         NaN               Tier 2   \n",
       "5680                       2002         NaN               Tier 2   \n",
       "\n",
       "            Outlet_Type  \n",
       "0     Supermarket Type1  \n",
       "1     Supermarket Type1  \n",
       "2         Grocery Store  \n",
       "3     Supermarket Type1  \n",
       "4     Supermarket Type3  \n",
       "...                 ...  \n",
       "5676  Supermarket Type1  \n",
       "5677  Supermarket Type2  \n",
       "5678  Supermarket Type1  \n",
       "5679  Supermarket Type1  \n",
       "5680  Supermarket Type1  \n",
       "\n",
       "[5681 rows x 11 columns]"
      ]
     },
     "execution_count": 3,
     "metadata": {},
     "output_type": "execute_result"
    }
   ],
   "source": [
    "train\n",
    "test"
   ]
  },
  {
   "cell_type": "code",
   "execution_count": 4,
   "id": "48dbbfc4",
   "metadata": {},
   "outputs": [
    {
     "data": {
      "text/plain": [
       "Item_Identifier               0.000000\n",
       "Item_Weight                  17.165317\n",
       "Item_Fat_Content              0.000000\n",
       "Item_Visibility               0.000000\n",
       "Item_Type                     0.000000\n",
       "Item_MRP                      0.000000\n",
       "Outlet_Identifier             0.000000\n",
       "Outlet_Establishment_Year     0.000000\n",
       "Outlet_Size                  28.276428\n",
       "Outlet_Location_Type          0.000000\n",
       "Outlet_Type                   0.000000\n",
       "Item_Outlet_Sales             0.000000\n",
       "dtype: float64"
      ]
     },
     "execution_count": 4,
     "metadata": {},
     "output_type": "execute_result"
    }
   ],
   "source": [
    "train.isnull().sum()/train.shape[0] *100 #Checking out or missing values as percentages"
   ]
  },
  {
   "cell_type": "code",
   "execution_count": 5,
   "id": "20de3bd6",
   "metadata": {},
   "outputs": [
    {
     "data": {
      "text/plain": [
       "Item_Identifier               0.000000\n",
       "Item_Weight                  17.180074\n",
       "Item_Fat_Content              0.000000\n",
       "Item_Visibility               0.000000\n",
       "Item_Type                     0.000000\n",
       "Item_MRP                      0.000000\n",
       "Outlet_Identifier             0.000000\n",
       "Outlet_Establishment_Year     0.000000\n",
       "Outlet_Size                  28.269671\n",
       "Outlet_Location_Type          0.000000\n",
       "Outlet_Type                   0.000000\n",
       "dtype: float64"
      ]
     },
     "execution_count": 5,
     "metadata": {},
     "output_type": "execute_result"
    }
   ],
   "source": [
    "test.isnull().sum()/test.shape[0] *100 #Checking out or missing values as percentages"
   ]
  },
  {
   "cell_type": "markdown",
   "id": "04b1bc83",
   "metadata": {},
   "source": [
    "The percentage of missing values is nearly identical between the training and test sets.\n",
    "There is no need to toss out any of these variables, as those that are missing values are missing a fairly small percentage.\n",
    "Next, we will visually examine these variables with missing values to see if it would be appropriate to impute the missing values."
   ]
  },
  {
   "cell_type": "code",
   "execution_count": 6,
   "id": "3f3fd61e",
   "metadata": {},
   "outputs": [
    {
     "data": {
      "image/png": "[encoded data removed]",
      "text/plain": [
       "<Figure size 432x288 with 2 Axes>"
      ]
     },
     "metadata": {
      "needs_background": "light"
     },
     "output_type": "display_data"
    }
   ],
   "source": [
    "corr_matrix = train.corr()\n",
    "#print(corr_matrix)\n",
    "sns.heatmap(corr_matrix, annot=True)\n",
    "plt.show()"
   ]
  },
  {
   "cell_type": "code",
   "execution_count": 7,
   "id": "f8baca6f",
   "metadata": {},
   "outputs": [
    {
     "name": "stderr",
     "output_type": "stream",
     "text": [
      "C:\\Users\\thoma\\anaconda3\\lib\\site-packages\\seaborn\\_decorators.py:36: FutureWarning: Pass the following variable as a keyword arg: x. From version 0.12, the only valid positional argument will be `data`, and passing other arguments without an explicit keyword will result in an error or misinterpretation.\n",
      "  warnings.warn(\n"
     ]
    },
    {
     "data": {
      "text/plain": [
       "<AxesSubplot:xlabel='Item_Weight'>"
      ]
     },
     "execution_count": 7,
     "metadata": {},
     "output_type": "execute_result"
    },
    {
     "data": {
      "image/png": "[encoded data removed]",
      "text/plain": [
       "<Figure size 576x360 with 1 Axes>"
      ]
     },
     "metadata": {
      "needs_background": "light"
     },
     "output_type": "display_data"
    }
   ],
   "source": [
    "plt.figure(figsize=(8,5))\n",
    "sns.boxplot('Item_Weight',data=train)\n"
   ]
  },
  {
   "cell_type": "code",
   "execution_count": null,
   "id": "eda014f0",
   "metadata": {},
   "outputs": [],
   "source": []
  },
  {
   "cell_type": "markdown",
   "id": "69ab3469",
   "metadata": {},
   "source": [
    "Since the boxplot here does not show any significant outliers, and there does not appear to be any major correlation between Item_Weights and any of the other quantitative variables, we will impute the missing Item_Weight values as the mean.\n",
    "\n",
    "Also worth noting that Item_MRP has the highest correlation with our target variable."
   ]
  },
  {
   "cell_type": "code",
   "execution_count": 8,
   "id": "be108fe7",
   "metadata": {},
   "outputs": [],
   "source": [
    "train['Item_Weight']= train['Item_Weight'].fillna(train['Item_Weight'].mean())\n",
    "test['Item_Weight']= test['Item_Weight'].fillna(test['Item_Weight'].mean())"
   ]
  },
  {
   "cell_type": "code",
   "execution_count": 9,
   "id": "d82fa227",
   "metadata": {},
   "outputs": [
    {
     "name": "stdout",
     "output_type": "stream",
     "text": [
      "Medium    2793\n",
      "Small     2388\n",
      "High       932\n",
      "Name: Outlet_Size, dtype: int64\n"
     ]
    }
   ],
   "source": [
    "print(train['Outlet_Size'].value_counts())"
   ]
  },
  {
   "cell_type": "markdown",
   "id": "b7f03482",
   "metadata": {},
   "source": [
    "We will imput the missing \"Outlet_Size\" values as Medium, since it is the mode."
   ]
  },
  {
   "cell_type": "code",
   "execution_count": 10,
   "id": "ddfa8c7d",
   "metadata": {},
   "outputs": [],
   "source": [
    "train['Outlet_Size']= train['Outlet_Size'].fillna(train['Outlet_Size'].mode()[0])\n",
    "test['Outlet_Size']= test['Outlet_Size'].fillna(test['Outlet_Size'].mode()[0])"
   ]
  },
  {
   "cell_type": "code",
   "execution_count": 11,
   "id": "726a2981",
   "metadata": {},
   "outputs": [
    {
     "name": "stderr",
     "output_type": "stream",
     "text": [
      "C:\\Users\\thoma\\anaconda3\\lib\\site-packages\\seaborn\\_decorators.py:36: FutureWarning: Pass the following variable as a keyword arg: x. From version 0.12, the only valid positional argument will be `data`, and passing other arguments without an explicit keyword will result in an error or misinterpretation.\n",
      "  warnings.warn(\n"
     ]
    },
    {
     "data": {
      "text/plain": [
       "[Text(0.5, 1.0, 'Frequency of Item Types Sold')]"
      ]
     },
     "execution_count": 11,
     "metadata": {},
     "output_type": "execute_result"
    },
    {
     "data": {
      "image/png": "[encoded data removed]",
      "text/plain": [
       "<Figure size 1800x504 with 1 Axes>"
      ]
     },
     "metadata": {
      "needs_background": "light"
     },
     "output_type": "display_data"
    }
   ],
   "source": [
    "plt.figure(figsize=(25,7))\n",
    "sns.countplot('Item_Type',data=train).set(title='Frequency of Item Types Sold')"
   ]
  },
  {
   "cell_type": "markdown",
   "id": "8d8ef34c",
   "metadata": {},
   "source": [
    "Fruits and Vegetables seem to be the most popular, Seafood is the least popular."
   ]
  },
  {
   "cell_type": "code",
   "execution_count": 12,
   "id": "1b05fbb9",
   "metadata": {},
   "outputs": [
    {
     "name": "stderr",
     "output_type": "stream",
     "text": [
      "C:\\Users\\thoma\\anaconda3\\lib\\site-packages\\seaborn\\_decorators.py:36: FutureWarning: Pass the following variable as a keyword arg: x. From version 0.12, the only valid positional argument will be `data`, and passing other arguments without an explicit keyword will result in an error or misinterpretation.\n",
      "  warnings.warn(\n"
     ]
    },
    {
     "data": {
      "text/plain": [
       "[Text(0.5, 1.0, 'Fat Content Comparison')]"
      ]
     },
     "execution_count": 12,
     "metadata": {},
     "output_type": "execute_result"
    },
    {
     "data": {
      "image/png": "[encoded data removed]",
      "text/plain": [
       "<Figure size 432x288 with 1 Axes>"
      ]
     },
     "metadata": {
      "needs_background": "light"
     },
     "output_type": "display_data"
    }
   ],
   "source": [
    "sns.countplot('Item_Fat_Content',data=train).set(title='Fat Content Comparison')"
   ]
  },
  {
   "cell_type": "markdown",
   "id": "a09214f6",
   "metadata": {},
   "source": [
    "From this, we can see that there are two categories each for \"Low Fat\" and \"Regular,\" we should fix this."
   ]
  },
  {
   "cell_type": "code",
   "execution_count": 13,
   "id": "5ac4c777",
   "metadata": {},
   "outputs": [
    {
     "name": "stderr",
     "output_type": "stream",
     "text": [
      "C:\\Users\\thoma\\anaconda3\\lib\\site-packages\\seaborn\\_decorators.py:36: FutureWarning: Pass the following variable as a keyword arg: x. From version 0.12, the only valid positional argument will be `data`, and passing other arguments without an explicit keyword will result in an error or misinterpretation.\n",
      "  warnings.warn(\n"
     ]
    },
    {
     "data": {
      "text/plain": [
       "[Text(0.5, 1.0, 'Fat Content Comparison')]"
      ]
     },
     "execution_count": 13,
     "metadata": {},
     "output_type": "execute_result"
    },
    {
     "data": {
      "image/png": "[encoded data removed]",
      "text/plain": [
       "<Figure size 432x288 with 1 Axes>"
      ]
     },
     "metadata": {
      "needs_background": "light"
     },
     "output_type": "display_data"
    }
   ],
   "source": [
    "train=train.replace(to_replace='low fat', value='Low Fat')\n",
    "train=train.replace(to_replace='reg', value='Regular')\n",
    "test=test.replace(to_replace='low fat', value='Low Fat')\n",
    "test=test.replace(to_replace='reg', value='Regular')\n",
    "train=train.replace(to_replace='LF', value='Low Fat')\n",
    "test=test.replace(to_replace='LF', value='Low Fat')\n",
    "sns.countplot('Item_Fat_Content',data=train).set(title='Fat Content Comparison') #Double check that worked"
   ]
  },
  {
   "cell_type": "markdown",
   "id": "7000c5da",
   "metadata": {},
   "source": [
    "I believe that the \"Outlet_Establishement_Year\" variable will serve better as a \"Years since Established\" variable. Since this data set was uploaded in 2017, we will use this as our \"Present\""
   ]
  },
  {
   "cell_type": "code",
   "execution_count": 14,
   "id": "ebb2c681",
   "metadata": {},
   "outputs": [
    {
     "data": {
      "text/plain": [
       "2009"
      ]
     },
     "execution_count": 14,
     "metadata": {},
     "output_type": "execute_result"
    }
   ],
   "source": [
    "max(train['Outlet_Establishment_Year'])"
   ]
  },
  {
   "cell_type": "code",
   "execution_count": 15,
   "id": "9f5dcc9e",
   "metadata": {},
   "outputs": [],
   "source": [
    "train['Years_Established'] = train['Outlet_Establishment_Year'].apply(lambda x: 2017 - x) \n",
    "test['Years_Established'] = test['Outlet_Establishment_Year'].apply(lambda x: 2017 - x)"
   ]
  },
  {
   "cell_type": "code",
   "execution_count": 16,
   "id": "cbec6898",
   "metadata": {},
   "outputs": [],
   "source": [
    "test=test.drop(labels='Outlet_Establishment_Year',axis=1)\n",
    "train=train.drop(labels='Outlet_Establishment_Year',axis=1)"
   ]
  },
  {
   "cell_type": "code",
   "execution_count": 17,
   "id": "c7396b92",
   "metadata": {},
   "outputs": [
    {
     "name": "stderr",
     "output_type": "stream",
     "text": [
      "C:\\Users\\thoma\\anaconda3\\lib\\site-packages\\seaborn\\distributions.py:2619: FutureWarning: `distplot` is a deprecated function and will be removed in a future version. Please adapt your code to use either `displot` (a figure-level function with similar flexibility) or `histplot` (an axes-level function for histograms).\n",
      "  warnings.warn(msg, FutureWarning)\n"
     ]
    },
    {
     "data": {
      "image/png": "[encoded data removed]",
      "text/plain": [
       "<Figure size 432x288 with 1 Axes>"
      ]
     },
     "metadata": {
      "needs_background": "light"
     },
     "output_type": "display_data"
    }
   ],
   "source": [
    "sns.distplot(train['Item_Outlet_Sales']).set(title='Distribution of Item Outlet Sales')\n",
    "plt.show()"
   ]
  },
  {
   "cell_type": "markdown",
   "id": "24cb12b9",
   "metadata": {},
   "source": [
    "This distribution is certainly skewed right.  It would appear the majority of the values for our target variable tend to be in the 0 to 4000 range."
   ]
  },
  {
   "cell_type": "code",
   "execution_count": 18,
   "id": "f77ca562",
   "metadata": {},
   "outputs": [
    {
     "data": {
      "text/plain": [
       "[Text(0.5, 1.0, 'Total Sale Values by Category')]"
      ]
     },
     "execution_count": 18,
     "metadata": {},
     "output_type": "execute_result"
    },
    {
     "data": {
      "image/png": "[encoded data removed]",
      "text/plain": [
       "<Figure size 720x576 with 1 Axes>"
      ]
     },
     "metadata": {
      "needs_background": "light"
     },
     "output_type": "display_data"
    }
   ],
   "source": [
    "plt.figure(figsize=(10,8))\n",
    "sns.boxplot(y='Item_Type',x='Item_Outlet_Sales',data=train).set(title='Total Sale Values by Category')"
   ]
  },
  {
   "cell_type": "markdown",
   "id": "e541b96b",
   "metadata": {},
   "source": [
    "Worth noting that certain categories (Seafood, in particular) have a significantly higher median total sale value than one may expect by their low frequency of sales when compared to other categories.  This is easily attributable to the higher cost for an item like salmon compared to something like a box of Teddy Grahams.\n",
    "It is fascinating that all of the total sale value distributions are so close across categories.  There does not appear to be any single category that significantly outerperforms the others.\n",
    "The number of outliers in certain categories like Fruits and Vegetables is also notable.\n",
    "\n",
    "When considering ethics, I was curious as to whether the visibility of certain product categories was being promoted."
   ]
  },
  {
   "cell_type": "code",
   "execution_count": 19,
   "id": "ffab97bd",
   "metadata": {},
   "outputs": [
    {
     "data": {
      "text/plain": [
       "[Text(0.5, 1.0, 'Item Visibility across Categories')]"
      ]
     },
     "execution_count": 19,
     "metadata": {},
     "output_type": "execute_result"
    },
    {
     "data": {
      "image/png": "[encoded data removed]",
      "text/plain": [
       "<Figure size 432x288 with 1 Axes>"
      ]
     },
     "metadata": {
      "needs_background": "light"
     },
     "output_type": "display_data"
    }
   ],
   "source": [
    "sns.boxplot(data=test, x=\"Item_Visibility\", y=\"Item_Type\").set(title='Item Visibility across Categories')"
   ]
  },
  {
   "cell_type": "markdown",
   "id": "c347e5dc",
   "metadata": {},
   "source": [
    "Seafood semms generally less visible than other categories, but also the Seafood category features no values of 0, meaning that all seafood items sold are displayed.\n",
    "Breads appear to be generally the most visible, which makes sense when one thinks about a market.  Breads tend to be well displayed in general.\n",
    "\n",
    "Now lets look at some statistics."
   ]
  },
  {
   "cell_type": "code",
   "execution_count": 20,
   "id": "4160ed69",
   "metadata": {},
   "outputs": [
    {
     "name": "stdout",
     "output_type": "stream",
     "text": [
      "Categorical Features in Train Set: 7\n",
      "Numerical Features in Train Set: 5\n"
     ]
    }
   ],
   "source": [
    "categorical = train.select_dtypes(include =[object])\n",
    "print(\"Categorical Features in Train Set:\",categorical.shape[1])\n",
    "\n",
    "numerical= train.select_dtypes(include =[np.float64,np.int64])\n",
    "print(\"Numerical Features in Train Set:\",numerical.shape[1])"
   ]
  },
  {
   "cell_type": "code",
   "execution_count": 21,
   "id": "cde97857",
   "metadata": {},
   "outputs": [
    {
     "data": {
      "text/html": [
       "<div>\n",
       "<style scoped>\n",
       "    .dataframe tbody tr th:only-of-type {\n",
       "        vertical-align: middle;\n",
       "    }\n",
       "\n",
       "    .dataframe tbody tr th {\n",
       "        vertical-align: top;\n",
       "    }\n",
       "\n",
       "    .dataframe thead th {\n",
       "        text-align: right;\n",
       "    }\n",
       "</style>\n",
       "<table border=\"1\" class=\"dataframe\">\n",
       "  <thead>\n",
       "    <tr style=\"text-align: right;\">\n",
       "      <th></th>\n",
       "      <th>Item_Weight</th>\n",
       "      <th>Item_Visibility</th>\n",
       "      <th>Item_MRP</th>\n",
       "      <th>Item_Outlet_Sales</th>\n",
       "      <th>Years_Established</th>\n",
       "    </tr>\n",
       "  </thead>\n",
       "  <tbody>\n",
       "    <tr>\n",
       "      <th>count</th>\n",
       "      <td>8523.000000</td>\n",
       "      <td>8523.000000</td>\n",
       "      <td>8523.000000</td>\n",
       "      <td>8523.000000</td>\n",
       "      <td>8523.000000</td>\n",
       "    </tr>\n",
       "    <tr>\n",
       "      <th>mean</th>\n",
       "      <td>12.857645</td>\n",
       "      <td>0.066132</td>\n",
       "      <td>140.992782</td>\n",
       "      <td>2181.288914</td>\n",
       "      <td>19.168133</td>\n",
       "    </tr>\n",
       "    <tr>\n",
       "      <th>std</th>\n",
       "      <td>4.226124</td>\n",
       "      <td>0.051598</td>\n",
       "      <td>62.275067</td>\n",
       "      <td>1706.499616</td>\n",
       "      <td>8.371760</td>\n",
       "    </tr>\n",
       "    <tr>\n",
       "      <th>min</th>\n",
       "      <td>4.555000</td>\n",
       "      <td>0.000000</td>\n",
       "      <td>31.290000</td>\n",
       "      <td>33.290000</td>\n",
       "      <td>8.000000</td>\n",
       "    </tr>\n",
       "    <tr>\n",
       "      <th>25%</th>\n",
       "      <td>9.310000</td>\n",
       "      <td>0.026989</td>\n",
       "      <td>93.826500</td>\n",
       "      <td>834.247400</td>\n",
       "      <td>13.000000</td>\n",
       "    </tr>\n",
       "    <tr>\n",
       "      <th>50%</th>\n",
       "      <td>12.857645</td>\n",
       "      <td>0.053931</td>\n",
       "      <td>143.012800</td>\n",
       "      <td>1794.331000</td>\n",
       "      <td>18.000000</td>\n",
       "    </tr>\n",
       "    <tr>\n",
       "      <th>75%</th>\n",
       "      <td>16.000000</td>\n",
       "      <td>0.094585</td>\n",
       "      <td>185.643700</td>\n",
       "      <td>3101.296400</td>\n",
       "      <td>30.000000</td>\n",
       "    </tr>\n",
       "    <tr>\n",
       "      <th>max</th>\n",
       "      <td>21.350000</td>\n",
       "      <td>0.328391</td>\n",
       "      <td>266.888400</td>\n",
       "      <td>13086.964800</td>\n",
       "      <td>32.000000</td>\n",
       "    </tr>\n",
       "  </tbody>\n",
       "</table>\n",
       "</div>"
      ],
      "text/plain": [
       "       Item_Weight  Item_Visibility     Item_MRP  Item_Outlet_Sales  \\\n",
       "count  8523.000000      8523.000000  8523.000000        8523.000000   \n",
       "mean     12.857645         0.066132   140.992782        2181.288914   \n",
       "std       4.226124         0.051598    62.275067        1706.499616   \n",
       "min       4.555000         0.000000    31.290000          33.290000   \n",
       "25%       9.310000         0.026989    93.826500         834.247400   \n",
       "50%      12.857645         0.053931   143.012800        1794.331000   \n",
       "75%      16.000000         0.094585   185.643700        3101.296400   \n",
       "max      21.350000         0.328391   266.888400       13086.964800   \n",
       "\n",
       "       Years_Established  \n",
       "count        8523.000000  \n",
       "mean           19.168133  \n",
       "std             8.371760  \n",
       "min             8.000000  \n",
       "25%            13.000000  \n",
       "50%            18.000000  \n",
       "75%            30.000000  \n",
       "max            32.000000  "
      ]
     },
     "execution_count": 21,
     "metadata": {},
     "output_type": "execute_result"
    }
   ],
   "source": [
    "train.describe()"
   ]
  },
  {
   "cell_type": "markdown",
   "id": "8382943a",
   "metadata": {},
   "source": [
    "I am curious how \"Item_Visibility\" was determined.  One would think that \"0 Visibility\" would mean something is not visible at all, but that's clearly not the case here since those items do have sales."
   ]
  },
  {
   "cell_type": "markdown",
   "id": "26a6f41d",
   "metadata": {},
   "source": [
    "# Ethics"
   ]
  },
  {
   "cell_type": "markdown",
   "id": "7f5ae12f",
   "metadata": {},
   "source": [
    "&nbsp;&nbsp;&nbsp;&nbsp;&nbsp;&nbsp; In studying the data for a supermarket chain, we are uncovering trends within society, eg; where do people spend their money on groceries?  Certain variables, like the visibility of items, will indicate whether the market is intentionally trying to promote certain categories.  For example, we could uncover that snack foods tend to have much higher visibility when compared to healthier alternatives.  In uncovering these potential trends, BigMart would have information that they can use when making deals with brands.  If we find that, for example, a high visibility score is a critical factor when determining total sales, BigMart could auction off the best spots to brands, and certain products would be purchased more frequently simply because they were more visible.\n",
    "\n",
    "&nbsp;&nbsp;&nbsp;&nbsp;&nbsp;&nbsp; Another consideration when it comes to ethics here is the question of whether trying to forecast sales, and determine important factors in prediction from past data, is ultimately a productive goal.  While yes, this information will undoubtedly be valuable to BigMart, should we be making these models based off of previous data?  If, for example, supermarkets have classically found that people will purchase more chips when they’ve been placed in an additional, special location outside of the aisle, but have not attempted this practice with more healthy alternatives, and we prove that higher visibility is critically important to the sales of snack foods, the market will continue this practice.  If the market has never tested whether the same behavioral patterns would also apply to healthier alternatives such as food and vegetables, then the model wouldn’t be able to prove whether the same practice works across categories.  These are just the first examples that come to mind when thinking about how applying data science to a supermarket could be ethically cumbersome, and the implications of all results should be considered, as well as what dangers may arise when taking action."
   ]
  },
  {
   "cell_type": "markdown",
   "id": "960f9ddb",
   "metadata": {},
   "source": [
    "# Prepping the data"
   ]
  },
  {
   "cell_type": "markdown",
   "id": "2741ce1c",
   "metadata": {},
   "source": [
    "Fixing Some Data Types"
   ]
  },
  {
   "cell_type": "code",
   "execution_count": 22,
   "id": "05fff246",
   "metadata": {},
   "outputs": [],
   "source": [
    "categoricaltransformer = LabelEncoder()\n",
    "categoricalvariables = ['Item_Fat_Content','Outlet_Location_Type','Outlet_Size','Outlet_Type','Item_Type']\n",
    "\n",
    "for i in categoricalvariables:\n",
    "    train[i] = categoricaltransformer.fit_transform(train[i])\n",
    "    \n",
    "for i in categoricalvariables:\n",
    "    test[i] = categoricaltransformer.fit_transform(test[i])"
   ]
  },
  {
   "cell_type": "markdown",
   "id": "087a00d1",
   "metadata": {},
   "source": [
    "Dropping the ones I can't figure out how to make play nice\n"
   ]
  },
  {
   "cell_type": "code",
   "execution_count": 23,
   "id": "c7d7a7a1",
   "metadata": {},
   "outputs": [],
   "source": [
    "train = train.drop(['Item_Identifier','Outlet_Identifier'],axis=1)\n",
    "test= test.drop(['Item_Identifier','Outlet_Identifier'],axis=1)"
   ]
  },
  {
   "cell_type": "code",
   "execution_count": 24,
   "id": "218bf2bb",
   "metadata": {},
   "outputs": [
    {
     "data": {
      "text/html": [
       "<div>\n",
       "<style scoped>\n",
       "    .dataframe tbody tr th:only-of-type {\n",
       "        vertical-align: middle;\n",
       "    }\n",
       "\n",
       "    .dataframe tbody tr th {\n",
       "        vertical-align: top;\n",
       "    }\n",
       "\n",
       "    .dataframe thead th {\n",
       "        text-align: right;\n",
       "    }\n",
       "</style>\n",
       "<table border=\"1\" class=\"dataframe\">\n",
       "  <thead>\n",
       "    <tr style=\"text-align: right;\">\n",
       "      <th></th>\n",
       "      <th>Item_Weight</th>\n",
       "      <th>Item_Fat_Content</th>\n",
       "      <th>Item_Visibility</th>\n",
       "      <th>Item_Type</th>\n",
       "      <th>Item_MRP</th>\n",
       "      <th>Outlet_Size</th>\n",
       "      <th>Outlet_Location_Type</th>\n",
       "      <th>Outlet_Type</th>\n",
       "      <th>Item_Outlet_Sales</th>\n",
       "      <th>Years_Established</th>\n",
       "    </tr>\n",
       "  </thead>\n",
       "  <tbody>\n",
       "    <tr>\n",
       "      <th>0</th>\n",
       "      <td>9.30</td>\n",
       "      <td>0</td>\n",
       "      <td>0.016047</td>\n",
       "      <td>4</td>\n",
       "      <td>249.8092</td>\n",
       "      <td>1</td>\n",
       "      <td>0</td>\n",
       "      <td>1</td>\n",
       "      <td>3735.1380</td>\n",
       "      <td>18</td>\n",
       "    </tr>\n",
       "    <tr>\n",
       "      <th>1</th>\n",
       "      <td>5.92</td>\n",
       "      <td>1</td>\n",
       "      <td>0.019278</td>\n",
       "      <td>14</td>\n",
       "      <td>48.2692</td>\n",
       "      <td>1</td>\n",
       "      <td>2</td>\n",
       "      <td>2</td>\n",
       "      <td>443.4228</td>\n",
       "      <td>8</td>\n",
       "    </tr>\n",
       "    <tr>\n",
       "      <th>2</th>\n",
       "      <td>17.50</td>\n",
       "      <td>0</td>\n",
       "      <td>0.016760</td>\n",
       "      <td>10</td>\n",
       "      <td>141.6180</td>\n",
       "      <td>1</td>\n",
       "      <td>0</td>\n",
       "      <td>1</td>\n",
       "      <td>2097.2700</td>\n",
       "      <td>18</td>\n",
       "    </tr>\n",
       "    <tr>\n",
       "      <th>3</th>\n",
       "      <td>19.20</td>\n",
       "      <td>1</td>\n",
       "      <td>0.000000</td>\n",
       "      <td>6</td>\n",
       "      <td>182.0950</td>\n",
       "      <td>1</td>\n",
       "      <td>2</td>\n",
       "      <td>0</td>\n",
       "      <td>732.3800</td>\n",
       "      <td>19</td>\n",
       "    </tr>\n",
       "    <tr>\n",
       "      <th>4</th>\n",
       "      <td>8.93</td>\n",
       "      <td>0</td>\n",
       "      <td>0.000000</td>\n",
       "      <td>9</td>\n",
       "      <td>53.8614</td>\n",
       "      <td>0</td>\n",
       "      <td>2</td>\n",
       "      <td>1</td>\n",
       "      <td>994.7052</td>\n",
       "      <td>30</td>\n",
       "    </tr>\n",
       "  </tbody>\n",
       "</table>\n",
       "</div>"
      ],
      "text/plain": [
       "   Item_Weight  Item_Fat_Content  Item_Visibility  Item_Type  Item_MRP  \\\n",
       "0         9.30                 0         0.016047          4  249.8092   \n",
       "1         5.92                 1         0.019278         14   48.2692   \n",
       "2        17.50                 0         0.016760         10  141.6180   \n",
       "3        19.20                 1         0.000000          6  182.0950   \n",
       "4         8.93                 0         0.000000          9   53.8614   \n",
       "\n",
       "   Outlet_Size  Outlet_Location_Type  Outlet_Type  Item_Outlet_Sales  \\\n",
       "0            1                     0            1          3735.1380   \n",
       "1            1                     2            2           443.4228   \n",
       "2            1                     0            1          2097.2700   \n",
       "3            1                     2            0           732.3800   \n",
       "4            0                     2            1           994.7052   \n",
       "\n",
       "   Years_Established  \n",
       "0                 18  \n",
       "1                  8  \n",
       "2                 18  \n",
       "3                 19  \n",
       "4                 30  "
      ]
     },
     "execution_count": 24,
     "metadata": {},
     "output_type": "execute_result"
    }
   ],
   "source": [
    "train.head()"
   ]
  },
  {
   "cell_type": "code",
   "execution_count": 25,
   "id": "a683ee15",
   "metadata": {},
   "outputs": [],
   "source": [
    "y = train['Item_Outlet_Sales']\n",
    "X = train.drop(labels = 'Item_Outlet_Sales', axis = 1)"
   ]
  },
  {
   "cell_type": "code",
   "execution_count": 26,
   "id": "c6a61874",
   "metadata": {},
   "outputs": [],
   "source": [
    "X_train,X_test,y_train,y_test = train_test_split(X,y,test_size=0.2,random_state=0)"
   ]
  },
  {
   "cell_type": "code",
   "execution_count": 27,
   "id": "fb6dc00e",
   "metadata": {},
   "outputs": [
    {
     "data": {
      "text/html": [
       "<div>\n",
       "<style scoped>\n",
       "    .dataframe tbody tr th:only-of-type {\n",
       "        vertical-align: middle;\n",
       "    }\n",
       "\n",
       "    .dataframe tbody tr th {\n",
       "        vertical-align: top;\n",
       "    }\n",
       "\n",
       "    .dataframe thead th {\n",
       "        text-align: right;\n",
       "    }\n",
       "</style>\n",
       "<table border=\"1\" class=\"dataframe\">\n",
       "  <thead>\n",
       "    <tr style=\"text-align: right;\">\n",
       "      <th></th>\n",
       "      <th>Item_Weight</th>\n",
       "      <th>Item_Fat_Content</th>\n",
       "      <th>Item_Visibility</th>\n",
       "      <th>Item_Type</th>\n",
       "      <th>Item_MRP</th>\n",
       "      <th>Outlet_Size</th>\n",
       "      <th>Outlet_Location_Type</th>\n",
       "      <th>Outlet_Type</th>\n",
       "      <th>Years_Established</th>\n",
       "    </tr>\n",
       "  </thead>\n",
       "  <tbody>\n",
       "    <tr>\n",
       "      <th>6404</th>\n",
       "      <td>12.857645</td>\n",
       "      <td>0</td>\n",
       "      <td>0.008722</td>\n",
       "      <td>6</td>\n",
       "      <td>123.5414</td>\n",
       "      <td>1</td>\n",
       "      <td>2</td>\n",
       "      <td>3</td>\n",
       "      <td>32</td>\n",
       "    </tr>\n",
       "    <tr>\n",
       "      <th>5820</th>\n",
       "      <td>18.700000</td>\n",
       "      <td>0</td>\n",
       "      <td>0.014623</td>\n",
       "      <td>14</td>\n",
       "      <td>52.0324</td>\n",
       "      <td>1</td>\n",
       "      <td>1</td>\n",
       "      <td>1</td>\n",
       "      <td>15</td>\n",
       "    </tr>\n",
       "    <tr>\n",
       "      <th>48</th>\n",
       "      <td>15.850000</td>\n",
       "      <td>1</td>\n",
       "      <td>0.121633</td>\n",
       "      <td>0</td>\n",
       "      <td>60.6220</td>\n",
       "      <td>2</td>\n",
       "      <td>0</td>\n",
       "      <td>1</td>\n",
       "      <td>20</td>\n",
       "    </tr>\n",
       "    <tr>\n",
       "      <th>4583</th>\n",
       "      <td>12.857645</td>\n",
       "      <td>0</td>\n",
       "      <td>0.145670</td>\n",
       "      <td>5</td>\n",
       "      <td>247.2776</td>\n",
       "      <td>2</td>\n",
       "      <td>0</td>\n",
       "      <td>0</td>\n",
       "      <td>32</td>\n",
       "    </tr>\n",
       "    <tr>\n",
       "      <th>3791</th>\n",
       "      <td>21.000000</td>\n",
       "      <td>0</td>\n",
       "      <td>0.049296</td>\n",
       "      <td>13</td>\n",
       "      <td>194.4478</td>\n",
       "      <td>2</td>\n",
       "      <td>1</td>\n",
       "      <td>1</td>\n",
       "      <td>13</td>\n",
       "    </tr>\n",
       "  </tbody>\n",
       "</table>\n",
       "</div>"
      ],
      "text/plain": [
       "      Item_Weight  Item_Fat_Content  Item_Visibility  Item_Type  Item_MRP  \\\n",
       "6404    12.857645                 0         0.008722          6  123.5414   \n",
       "5820    18.700000                 0         0.014623         14   52.0324   \n",
       "48      15.850000                 1         0.121633          0   60.6220   \n",
       "4583    12.857645                 0         0.145670          5  247.2776   \n",
       "3791    21.000000                 0         0.049296         13  194.4478   \n",
       "\n",
       "      Outlet_Size  Outlet_Location_Type  Outlet_Type  Years_Established  \n",
       "6404            1                     2            3                 32  \n",
       "5820            1                     1            1                 15  \n",
       "48              2                     0            1                 20  \n",
       "4583            2                     0            0                 32  \n",
       "3791            2                     1            1                 13  "
      ]
     },
     "execution_count": 27,
     "metadata": {},
     "output_type": "execute_result"
    }
   ],
   "source": [
    "X_train.head()"
   ]
  },
  {
   "cell_type": "code",
   "execution_count": 28,
   "id": "8b3de67a",
   "metadata": {},
   "outputs": [
    {
     "data": {
      "text/plain": [
       "Text(0, 0.5, 'Item Outlet Sales')"
      ]
     },
     "execution_count": 28,
     "metadata": {},
     "output_type": "execute_result"
    },
    {
     "data": {
      "image/png": "[encoded data removed]",
      "text/plain": [
       "<Figure size 576x360 with 1 Axes>"
      ]
     },
     "metadata": {
      "needs_background": "light"
     },
     "output_type": "display_data"
    }
   ],
   "source": [
    "plt.figure(figsize=(8,5))\n",
    "plt.scatter(y='Item_Outlet_Sales',x='Item_MRP',data=train)\n",
    "plt.xlabel('Item MRP')\n",
    "plt.ylabel('Item Outlet Sales')"
   ]
  },
  {
   "cell_type": "code",
   "execution_count": 29,
   "id": "d8831978",
   "metadata": {
    "scrolled": true
   },
   "outputs": [
    {
     "name": "stdout",
     "output_type": "stream",
     "text": [
      "The magniture of the feature coefficient for Item_Weight is 0.0.\n",
      "The magniture of the feature coefficient for Item_Fat_Content is 0.0.\n",
      "The magniture of the feature coefficient for Item_Visibility is 0.0.\n",
      "The magniture of the feature coefficient for Item_Type is 0.0.\n",
      "The magniture of the feature coefficient for Item_MRP is 15.543449630225787.\n",
      "The magniture of the feature coefficient for Outlet_Size is 0.0.\n",
      "The magniture of the feature coefficient for Outlet_Location_Type is 89.19585763398521.\n",
      "The magniture of the feature coefficient for Outlet_Type is 804.5091002179853.\n",
      "The magniture of the feature coefficient for Years_Established is 0.0.\n",
      "The mean squared error when training using lasso is 1487250.1559545898.\n",
      "When testing on the test data, the mean squared error is 1490114.7493765443\n",
      "R squared training set 48.86\n",
      "R squared test set 49.09\n",
      "R Squared value using LassoCV =  0.49088271118427695\n"
     ]
    }
   ],
   "source": [
    "lassoEst=LassoCV(n_alphas=10).fit(X_train,y_train)\n",
    "lassocoeffeaturemags = []\n",
    "lassofeaturenames = []\n",
    "for feature, coef in zip(X_train.columns, lassoEst.coef_):\n",
    "    print(f\"The magniture of the feature coefficient for {feature} is {abs(coef)}.\")\n",
    "    lassocoeffeaturemags.append(abs(coef))\n",
    "    lassofeaturenames.append(feature)\n",
    "print(f\"The mean squared error when training using lasso is {mean_squared_error(y_train, lassoEst.predict(X_train))}.\")\n",
    "print(f\"When testing on the test data, the mean squared error is {mean_squared_error(y_test, lassoEst.predict(X_test))}\")\n",
    "\n",
    "print('R squared training set', round(lassoEst.score(X_train, y_train)*100, 2))\n",
    "print('R squared test set', round(lassoEst.score(X_test, y_test)*100, 2))\n",
    "ypred_lasso = lassoEst.predict(X_test)\n",
    "rsquared_lasso = r2_score(y_test, ypred_lasso)\n",
    "print('R Squared value using LassoCV = ', rsquared_lasso)"
   ]
  },
  {
   "cell_type": "code",
   "execution_count": 30,
   "id": "6d9ad852",
   "metadata": {},
   "outputs": [
    {
     "name": "stdout",
     "output_type": "stream",
     "text": [
      "The mean squared error when training using Random Forest is 1149725.4242229492.\n",
      "When testing on the test data, the mean squared error is 1202952.3989030758\n"
     ]
    }
   ],
   "source": [
    "RFmodel= RandomForestRegressor(n_estimators=200,max_depth=5, min_samples_leaf=100,n_jobs=4,random_state=22)\n",
    "RFmodel.fit(X_train,y_train)\n",
    "y_predRF = RFmodel.predict(X_test)\n",
    "print(f\"The mean squared error when training using Random Forest is {mean_squared_error(y_train, RFmodel.predict(X_train))}.\")\n",
    "print(f\"When testing on the test data, the mean squared error is {mean_squared_error(y_test, RFmodel.predict(X_test))}\")"
   ]
  },
  {
   "cell_type": "code",
   "execution_count": 31,
   "id": "af7b8cb7",
   "metadata": {},
   "outputs": [
    {
     "name": "stdout",
     "output_type": "stream",
     "text": [
      "R Squared value using Random Forest =  0.5889955024201006\n",
      "R Squared training value using Random Forest =  0.5889955024201006\n"
     ]
    }
   ],
   "source": [
    "rsquared_RF = r2_score(y_test, y_predRF)\n",
    "print('R Squared value using Random Forest = ', rsquared_RF)\n",
    "\n",
    "y_predtrRF = RFmodel.predict(X_train)\n",
    "rsquared_trRF = r2_score(y_train, y_predtrRF)\n",
    "print('R Squared training value using Random Forest = ', rsquared_RF)"
   ]
  },
  {
   "cell_type": "code",
   "execution_count": 32,
   "id": "42b8033d",
   "metadata": {},
   "outputs": [
    {
     "name": "stdout",
     "output_type": "stream",
     "text": [
      "R Squared value using K Nearest Neighbors with K = 1 =  0.11082520644338634\n",
      "R Squared value using K Nearest Neighbors with K = 2 =  0.3078288033694583\n",
      "R Squared value using K Nearest Neighbors with K = 3 =  0.3470013515236303\n",
      "R Squared value using K Nearest Neighbors with K = 4 =  0.3911727365812846\n",
      "R Squared value using K Nearest Neighbors with K = 5 =  0.4175073492736837\n",
      "R Squared value using K Nearest Neighbors with K = 6 =  0.42654201591196284\n",
      "R Squared value using K Nearest Neighbors with K = 7 =  0.4258023568788598\n",
      "R Squared value using K Nearest Neighbors with K = 8 =  0.4240536288112622\n",
      "R Squared value using K Nearest Neighbors with K = 9 =  0.4247921734713056\n",
      "R Squared value using K Nearest Neighbors with K = 10 =  0.41832670640493486\n",
      "R Squared value using K Nearest Neighbors with K = 11 =  0.41481180394229966\n",
      "R Squared value using K Nearest Neighbors with K = 12 =  0.41046712237100724\n",
      "R Squared value using K Nearest Neighbors with K = 13 =  0.40737293341991887\n",
      "R Squared value using K Nearest Neighbors with K = 14 =  0.40578637357558167\n",
      "R Squared value using K Nearest Neighbors with K = 15 =  0.40162668189322426\n",
      "R Squared value using K Nearest Neighbors with K = 16 =  0.39954644743774426\n",
      "R Squared value using K Nearest Neighbors with K = 17 =  0.39981592694608636\n",
      "R Squared value using K Nearest Neighbors with K = 18 =  0.4022907146854713\n",
      "R Squared value using K Nearest Neighbors with K = 19 =  0.4019518369253392\n",
      "Best R Squared value using K Nearest Neighbors was with K = 6, where r^2=  0.42654201591196284\n"
     ]
    }
   ],
   "source": [
    "kbest = 1\n",
    "knnrsquaredbest = 0\n",
    "for k in range(1,20):\n",
    "    KNNmodel = KNeighborsRegressor(n_neighbors = k)\n",
    "    KNNmodel.fit(X_train, y_train)\n",
    "    y_predKNN = KNNmodel.predict(X_test)\n",
    "    rsquared_KNN = r2_score(y_test, y_predKNN)\n",
    "    print(f'R Squared value using K Nearest Neighbors with K = {k} = ', rsquared_KNN)\n",
    "    if rsquared_KNN > knnrsquaredbest:\n",
    "        knnrsquaredbest = rsquared_KNN\n",
    "        kbest = k\n",
    "        y_pred_KNNbest = y_predKNN\n",
    "        y_pred_KNNbesttrain = KNNmodel.predict(X_train)\n",
    "print(f'Best R Squared value using K Nearest Neighbors was with K = {kbest}, where r^2= ', knnrsquaredbest)"
   ]
  },
  {
   "cell_type": "code",
   "execution_count": null,
   "id": "eeda5333",
   "metadata": {},
   "outputs": [],
   "source": []
  },
  {
   "cell_type": "code",
   "execution_count": 33,
   "id": "b66358be",
   "metadata": {},
   "outputs": [
    {
     "data": {
      "image/png": "[encoded data removed]",
      "text/plain": [
       "<Figure size 432x288 with 1 Axes>"
      ]
     },
     "metadata": {
      "needs_background": "light"
     },
     "output_type": "display_data"
    }
   ],
   "source": [
    "rsquaredlist = [rsquared_lasso, rsquared_RF, knnrsquaredbest]\n",
    "models = ['LassoCV', 'Random Forest', 'KNN Regression']\n",
    "fig = plt.figure()\n",
    "ax = fig.add_axes([0,0,1,1])\n",
    "ax.bar(models, rsquaredlist, color = ['brown', 'green', 'yellow'])\n",
    "ax.set_title('Model Performance Comparison')\n",
    "ax.set_ylabel('R^2 Value')\n",
    "plt.show()"
   ]
  },
  {
   "cell_type": "code",
   "execution_count": 34,
   "id": "43d0aec1",
   "metadata": {},
   "outputs": [
    {
     "name": "stderr",
     "output_type": "stream",
     "text": [
      "C:\\Users\\thoma\\anaconda3\\lib\\site-packages\\seaborn\\_decorators.py:36: FutureWarning: Pass the following variables as keyword args: x, y. From version 0.12, the only valid positional argument will be `data`, and passing other arguments without an explicit keyword will result in an error or misinterpretation.\n",
      "  warnings.warn(\n"
     ]
    },
    {
     "data": {
      "text/plain": [
       "Item_Fat_Content        0.000000e+00\n",
       "Outlet_Size             8.798416e-07\n",
       "Item_Type               1.233968e-04\n",
       "Item_Weight             4.247495e-04\n",
       "Outlet_Location_Type    8.564241e-04\n",
       "Item_Visibility         1.298682e-03\n",
       "Years_Established       5.080366e-02\n",
       "Outlet_Type             3.906482e-01\n",
       "Item_MRP                5.558440e-01\n",
       "dtype: float64"
      ]
     },
     "execution_count": 34,
     "metadata": {},
     "output_type": "execute_result"
    },
    {
     "data": {
      "image/png": "[encoded data removed]",
      "text/plain": [
       "<Figure size 864x432 with 1 Axes>"
      ]
     },
     "metadata": {
      "needs_background": "light"
     },
     "output_type": "display_data"
    }
   ],
   "source": [
    "features= ['Item_Weight','Item_Fat_Content','Item_Visibility','Item_Type','Item_MRP','Outlet_Size','Outlet_Location_Type','Outlet_Type','Years_Established']\n",
    "\n",
    "featureimportanceRF = pd.Series(RFmodel.feature_importances_, features).sort_values(ascending=True)\n",
    "plt.figure(figsize=(12,6))\n",
    "sns.barplot(RFmodel.feature_importances_,features).set(title = 'Feature Importance (Random Forest)')\n",
    "featureimportanceRF"
   ]
  },
  {
   "cell_type": "code",
   "execution_count": 35,
   "id": "6a784e52",
   "metadata": {},
   "outputs": [],
   "source": [
    "RFtrainMSE = mean_squared_error(y_train, RFmodel.predict(X_train))\n",
    "RFtestMSE = mean_squared_error(y_test, RFmodel.predict(X_test))\n",
    "\n",
    "LassotrainMSE = mean_squared_error(y_train, lassoEst.predict(X_train))\n",
    "LassotestMSE = mean_squared_error(y_test, lassoEst.predict(X_test))\n",
    "\n",
    "KNNtrainMSE = mean_squared_error(y_train, y_pred_KNNbesttrain)\n",
    "KNNtestMSE = mean_squared_error(y_test, y_pred_KNNbest)\n",
    "\n",
    "MSEtrainlist = [LassotrainMSE, RFtrainMSE, KNNtrainMSE]\n",
    "MSEtestlist = [LassotestMSE, RFtestMSE, KNNtestMSE]"
   ]
  },
  {
   "cell_type": "code",
   "execution_count": 36,
   "id": "4c11e23a",
   "metadata": {},
   "outputs": [
    {
     "name": "stdout",
     "output_type": "stream",
     "text": [
      "1202952.3989030756\n",
      "1490114.7493765443\n"
     ]
    }
   ],
   "source": [
    "print(RFtestMSE)\n",
    "print(LassotestMSE)"
   ]
  },
  {
   "cell_type": "code",
   "execution_count": 37,
   "id": "150c3517",
   "metadata": {},
   "outputs": [
    {
     "data": {
      "image/png": "[encoded data removed]",
      "text/plain": [
       "<Figure size 432x288 with 1 Axes>"
      ]
     },
     "metadata": {
      "needs_background": "light"
     },
     "output_type": "display_data"
    }
   ],
   "source": [
    "fig = plt.figure()\n",
    "ind = np.arange(3)  \n",
    "ax = fig.add_axes([0,0,1,1])\n",
    "br1 = np.arange(len(MSEtrainlist))\n",
    "br2 = [x + 0.25 for x in br1]\n",
    "ax.bar(br1, MSEtrainlist, width = 0.25)\n",
    "ax.bar(br2, MSEtestlist, color = 'red', width = 0.25)\n",
    "\n",
    "plt.xlabel('Model')\n",
    "plt.ylabel('Mean Squared Error')\n",
    "\n",
    "plt.legend([\"Train\", \"Test\"])\n",
    "plt.title('Model Performance Comparison (MSE)')\n",
    "plt.xticks(ind, models)\n",
    "plt.show()\n"
   ]
  },
  {
   "cell_type": "code",
   "execution_count": 38,
   "id": "e600bf46",
   "metadata": {},
   "outputs": [],
   "source": [
    "pcamodel = PCA()\n",
    "pcamodel.fit(X_train, y_train)\n",
    "X_train_pca = pcamodel.fit_transform(X_train, y_train)\n",
    "X_test_pca = pcamodel.transform(X_test)\n"
   ]
  },
  {
   "cell_type": "code",
   "execution_count": 39,
   "id": "fe4117a5",
   "metadata": {},
   "outputs": [
    {
     "name": "stdout",
     "output_type": "stream",
     "text": [
      "R squared training set 49.25\n",
      "R squared test set 49.45\n",
      "R Squared value using LassoCV with PCA applied =  0.49088271118427695\n"
     ]
    }
   ],
   "source": [
    "lassoEstpca=LassoCV(n_alphas=10).fit(X_train_pca,y_train)\n",
    "\n",
    "print('R squared training set', round(lassoEstpca.score(X_train_pca, y_train)*100, 2))\n",
    "print('R squared test set', round(lassoEstpca.score(X_test_pca, y_test)*100, 2))\n",
    "ypred_lasso_pca = lassoEst.predict(X_test)\n",
    "rsquared_lasso_pca = r2_score(y_test, ypred_lasso_pca)\n",
    "print('R Squared value using LassoCV with PCA applied = ', rsquared_lasso_pca)"
   ]
  },
  {
   "cell_type": "code",
   "execution_count": 40,
   "id": "0c78ec86",
   "metadata": {},
   "outputs": [
    {
     "name": "stdout",
     "output_type": "stream",
     "text": [
      "Best R Squared value using K Nearest Neighbors was with with pca with K = 6, where r^2=  0.42654201591196284\n"
     ]
    }
   ],
   "source": [
    "kbestpca = 1\n",
    "knnrsquaredbestpca = 0\n",
    "for k in range(1,20):\n",
    "    KNNmodelpca = KNeighborsRegressor(n_neighbors = k)\n",
    "    KNNmodelpca.fit(X_train_pca, y_train)\n",
    "    y_predKNN_pca = KNNmodelpca.predict(X_test_pca)\n",
    "    rsquared_KNN_pca = r2_score(y_test, y_predKNN_pca)\n",
    "    #print(f'R Squared value using K Nearest Neighbors with K = {k} = ', rsquared_KNN)\n",
    "    if rsquared_KNN_pca > knnrsquaredbestpca:\n",
    "        knnrsquaredbestpca = rsquared_KNN_pca\n",
    "        kbestpca = k\n",
    "print(f'Best R Squared value using K Nearest Neighbors was with with pca with K = {kbestpca}, where r^2= ', knnrsquaredbestpca)"
   ]
  },
  {
   "cell_type": "code",
   "execution_count": 41,
   "id": "1f1315cc",
   "metadata": {},
   "outputs": [
    {
     "name": "stdout",
     "output_type": "stream",
     "text": [
      "The mean squared error when training using Random Forest is 1149725.4242229492.\n",
      "When testing on the test data, the mean squared error is 1202952.398903076\n"
     ]
    }
   ],
   "source": [
    "RFmodel= RandomForestRegressor(n_estimators=200,max_depth=5, min_samples_leaf=100,n_jobs=4,random_state=22)\n",
    "RFmodel.fit(X_train,y_train)\n",
    "y_predRF = RFmodel.predict(X_test)\n",
    "y_trainpred = RFmodel.predict(X_train)\n",
    "print(f\"The mean squared error when training using Random Forest is {mean_squared_error(y_train, RFmodel.predict(X_train))}.\")\n",
    "print(f\"When testing on the test data, the mean squared error is {mean_squared_error(y_test, RFmodel.predict(X_test))}\")"
   ]
  },
  {
   "cell_type": "code",
   "execution_count": 42,
   "id": "45cf6791",
   "metadata": {},
   "outputs": [],
   "source": [
    "def mape(actual, pred): \n",
    "    actual, pred = np.array(actual), np.array(pred)\n",
    "    return np.mean(np.abs((actual - pred) / actual)) * 100"
   ]
  },
  {
   "cell_type": "code",
   "execution_count": 43,
   "id": "7c69df44",
   "metadata": {},
   "outputs": [
    {
     "name": "stdout",
     "output_type": "stream",
     "text": [
      "The train MAPE is 56.69797690067011\n",
      "The test MAPE is 61.29173092771561\n"
     ]
    }
   ],
   "source": [
    "print(f'The train MAPE is {mape(y_train, y_trainpred)}')     \n",
    "print(f'The test MAPE is {mape(y_test, y_predRF)}') "
   ]
  },
  {
   "cell_type": "code",
   "execution_count": 44,
   "id": "9cc58700",
   "metadata": {},
   "outputs": [
    {
     "data": {
      "image/png": "[encoded data removed]",
      "text/plain": [
       "<Figure size 432x288 with 1 Axes>"
      ]
     },
     "metadata": {
      "needs_background": "light"
     },
     "output_type": "display_data"
    },
    {
     "data": {
      "text/plain": [
       "<Figure size 2880x2880 with 0 Axes>"
      ]
     },
     "metadata": {},
     "output_type": "display_data"
    }
   ],
   "source": [
    "#_ = tree.plot_tree(RFmodel.estimators_[0], feature_names=X_train.columns, filled=True, ax = (10,10))\n",
    "tree.plot_tree(RFmodel.estimators_[0], feature_names=X_train.columns, filled=True)\n",
    "#plt.savefig(sys.stdout.buffer)\n",
    "#sys.stdout.flush()\n",
    "#figure(figsize=(100, 100))\n",
    "#plt.show()\n",
    "#fig = plt.gcf()\n",
    "fig = plt.figure(figsize=(40, 40))\n",
    "fig.savefig('test6png.png', dpi=100)\n",
    "#fig.savefig('test2png.png', dpi=100)"
   ]
  },
  {
   "cell_type": "code",
   "execution_count": 45,
   "id": "6bbc8a36",
   "metadata": {},
   "outputs": [
    {
     "data": {
      "text/plain": [
       "Text(0.5, 1.0, 'Predicted')"
      ]
     },
     "execution_count": 45,
     "metadata": {},
     "output_type": "execute_result"
    },
    {
     "data": {
      "image/png": "[encoded data removed]",
      "text/plain": [
       "<Figure size 432x288 with 2 Axes>"
      ]
     },
     "metadata": {
      "needs_background": "light"
     },
     "output_type": "display_data"
    }
   ],
   "source": [
    "plt.subplot(2,1,1)\n",
    "plt.scatter(x=X_test['Item_MRP'], y=y_test)\n",
    "plt.title('Actual')\n",
    "plt.xlabel('Item_MRP')\n",
    "plt.ylabel('Outlet Sales')\n",
    "#plt.figure(figsize=(12,10))\n",
    "plt.subplot(2,1,2)\n",
    "plt.scatter(x=X_test['Item_MRP'], y=y_predRF)\n",
    "plt.xlabel('Item_MRP')\n",
    "plt.ylabel('Outlet Sales')\n",
    "plt.title('Predicted')\n",
    "#plt.figure(figsize=(12,10))\n"
   ]
  },
  {
   "cell_type": "code",
   "execution_count": null,
   "id": "1461ecbd",
   "metadata": {},
   "outputs": [],
   "source": []
  }
 ],
 "metadata": {
  "kernelspec": {
   "display_name": "Python 3 (ipykernel)",
   "language": "python",
   "name": "python3"
  },
  "language_info": {
   "codemirror_mode": {
    "name": "ipython",
    "version": 3
   },
   "file_extension": ".py",
   "mimetype": "text/x-python",
   "name": "python",
   "nbconvert_exporter": "python",
   "pygments_lexer": "ipython3",
   "version": "3.9.12"
  }
 },
 "nbformat": 4,
 "nbformat_minor": 5
}
